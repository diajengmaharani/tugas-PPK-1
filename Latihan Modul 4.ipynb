{
 "cells": [
  {
   "cell_type": "markdown",
   "id": "c1dce678-61be-4553-97f4-caf7b86cfafa",
   "metadata": {},
   "source": [
    "## NAMA: Diajeng Maharani Putri Dianwati\n",
    "## NIM:200601110008\n",
    "### Latihan!\n",
    "1. Buatlah program untuk menginputkan dua buah bilangan bulat, kemudian mencetak salah satu bilangan yang nilainya terbesar!"
   ]
  },
  {
   "cell_type": "code",
   "execution_count": 1,
   "id": "31d82195-4102-4287-9905-44f25c3b5640",
   "metadata": {},
   "outputs": [
    {
     "name": "stdout",
     "output_type": "stream",
     "text": [
      "Mencari Nilai Terbesar\n",
      "--------------------\n"
     ]
    },
    {
     "name": "stdin",
     "output_type": "stream",
     "text": [
      "masukkan nilai x yaitu:  76\n",
      "masukkan nilai y yaitu:  53\n"
     ]
    },
    {
     "name": "stdout",
     "output_type": "stream",
     "text": [
      "nilai terbesar adalah 76\n"
     ]
    }
   ],
   "source": [
    "print (\"Mencari Nilai Terbesar\")\n",
    "print (\"-\"*20)\n",
    "#menginput dua bilangan bulat\n",
    "x = int(input(\"masukkan nilai x yaitu: \"))\n",
    "y = int(input(\"masukkan nilai y yaitu: \"))\n",
    "if x>y: #mencetak bilangan terbesar\n",
    "    print(\"nilai terbesar adalah\", x)\n",
    "else:\n",
    "    print(\"nilai terbesar adalah\", y)"
   ]
  },
  {
   "cell_type": "code",
   "execution_count": 2,
   "id": "27b68325-86c5-469b-933f-0d7e1bd17679",
   "metadata": {},
   "outputs": [
    {
     "name": "stdout",
     "output_type": "stream",
     "text": [
      "Mencari Nilai Terbesar\n",
      "--------------------\n"
     ]
    },
    {
     "name": "stdin",
     "output_type": "stream",
     "text": [
      "masukkan nilai x yaitu:  329\n",
      "masukkan nilai y yaitu:  875\n"
     ]
    },
    {
     "name": "stdout",
     "output_type": "stream",
     "text": [
      "nilai terbesar adalah 875\n"
     ]
    }
   ],
   "source": [
    "print (\"Mencari Nilai Terbesar\")\n",
    "print (\"-\"*20)\n",
    "#menginput dua bilangan bulat\n",
    "x = int(input(\"masukkan nilai x yaitu: \"))\n",
    "y = int(input(\"masukkan nilai y yaitu: \"))\n",
    "if x>y: #mencetak bilangan terbesar\n",
    "    print(\"nilai terbesar adalah\", x)\n",
    "else:\n",
    "    print(\"nilai terbesar adalah\", y)"
   ]
  },
  {
   "cell_type": "markdown",
   "id": "36b3ad19-f207-435f-9424-138cba5a3096",
   "metadata": {},
   "source": [
    "selanjutnya dapat mencari nilai terbesar dengan lain cara yaitu:"
   ]
  },
  {
   "cell_type": "code",
   "execution_count": 3,
   "id": "8d09c19a-a5e3-48ce-a76b-976de264d14b",
   "metadata": {},
   "outputs": [],
   "source": [
    "def maks(a,b):\n",
    "        if a>b:\n",
    "                return a\n",
    "        else:\n",
    "                return b"
   ]
  },
  {
   "cell_type": "code",
   "execution_count": 4,
   "id": "7c7d1dcb-63ba-4cee-9804-245cde7e9d3b",
   "metadata": {},
   "outputs": [
    {
     "data": {
      "text/plain": [
       "87"
      ]
     },
     "execution_count": 4,
     "metadata": {},
     "output_type": "execute_result"
    }
   ],
   "source": [
    "maks(45,87)"
   ]
  },
  {
   "cell_type": "markdown",
   "id": "a3437ce7-d54d-4111-ab51-4a147211eb25",
   "metadata": {},
   "source": [
    "2. Pada akhir semester seorang dosen menghitung nilai akhir dari mahasiswa yang terdiri dari nilai uas, uts, kuis, dan tugas. Nilai akhir didapatkan dari 40% nilai uas, 30% nilai uts, 10% nilai kuis, dan 20% nilai tugas. Jika nilai akhir dari mahasiswa di bawah 65 maka mahasiswa tersebut akan mendapatkan remidi. Buatlah program untuk membantu mengetahui mahasiswa yang mendapatkan remidi berdasarkan nilai akhir yang didapatkannya!"
   ]
  },
  {
   "cell_type": "code",
   "execution_count": 6,
   "id": "98746e22-b43b-4478-b080-630365fefd18",
   "metadata": {},
   "outputs": [
    {
     "name": "stdout",
     "output_type": "stream",
     "text": [
      "_____Nilai Akhir Mahasiswa_____\n"
     ]
    },
    {
     "name": "stdin",
     "output_type": "stream",
     "text": [
      "Nama Mahasiswa:  Vhio Ardinata\n",
      "Masukkan nilai UAS  :  55\n",
      "Masukkan nilai UTS  :  40\n",
      "Masukkan nilai Kuis :  57\n",
      "Masukkan nilai Tugas:  78\n"
     ]
    },
    {
     "name": "stdout",
     "output_type": "stream",
     "text": [
      "Hasil jumlah nilai akhir: 55.3\n",
      "Anda dinyatakan tidak lulus, silahkan mengikuti remidi.\n",
      "_________Tetap Semangat Belajar Apapun Hasilnya_________\n"
     ]
    }
   ],
   "source": [
    "print (\"_____Nilai Akhir Mahasiswa_____\")\n",
    "\n",
    "NA = input(\"Nama Mahasiswa: \")\n",
    "A = int(input(\"Masukkan nilai UAS  : \"))\n",
    "B = int(input(\"Masukkan nilai UTS  : \"))\n",
    "C = int(input(\"Masukkan nilai Kuis : \"))\n",
    "D = int(input(\"Masukkan nilai Tugas: \"))\n",
    "NA = (A*40+B*30+C*10+D*20)/100\n",
    "print(\"Hasil jumlah nilai akhir:\", (NA))\n",
    "if NA >= 65:\n",
    "    print(\"Selamat anda dinyatakan lulus!\")\n",
    "else:\n",
    "    print(\"Anda dinyatakan tidak lulus, silahkan mengikuti remidi.\")\n",
    "print(\"_________Tetap Semangat Belajar Apapun Hasilnya_________\")"
   ]
  },
  {
   "cell_type": "markdown",
   "id": "ea4c8bd8-95bf-4189-a55e-1473057e8cbe",
   "metadata": {},
   "source": [
    "3.  Buatlah program kalkulator sederhana menggunakan Python. User akan memasukkan dua buah bilangan riil dan satu buah operator aritmatika (+, -, *, atau /), kemudian program akan mengoperasikan dua bilangan tersebut dengan operator yang sesuai."
   ]
  },
  {
   "cell_type": "code",
   "execution_count": 8,
   "id": "8cd5d542-aee7-40b0-9ef7-1d2ae34dd7b8",
   "metadata": {},
   "outputs": [
    {
     "name": "stdout",
     "output_type": "stream",
     "text": [
      "________Kalkulator Matematika________\n"
     ]
    },
    {
     "name": "stdin",
     "output_type": "stream",
     "text": [
      "Masukkan bilangan pertama:  67\n",
      "Masukkan Operator (+,-,*,/)    :  *\n",
      "Masukkan bilangan kedua  :  98\n"
     ]
    },
    {
     "name": "stdout",
     "output_type": "stream",
     "text": [
      "Hasil operasi dari 67.0*98.0 = 6566.0\n"
     ]
    }
   ],
   "source": [
    "print (\"________Kalkulator Matematika________\")\n",
    "\n",
    "\n",
    "x = float(input(\"Masukkan bilangan pertama: \"))\n",
    "z = input(\"Masukkan Operator (+,-,*,/)    : \")\n",
    "y = float(input(\"Masukkan bilangan kedua  : \"))\n",
    "\n",
    "if z == \"+\":\n",
    "    hasil = x+y\n",
    "    print(f\"Hasil operasi dari {x}+{y} = {hasil}\")\n",
    "elif z == \"-\":\n",
    "    hasil = x-y\n",
    "    print(f\"Hasil operasi dari {x}-{y} = {hasil}\")\n",
    "elif z == \"*\":\n",
    "    hasil = x*y\n",
    "    print(f\"Hasil operasi dari {x}*{y} = {hasil}\")\n",
    "elif z == \"/\":\n",
    "    hasil = x/y\n",
    "    print(f\"Hasil operasi dari {x}/{y} = {hasil}\")\n",
    "else:\n",
    "    print(\"Terjadi kesalahan, masukkan input dengan benar\")"
   ]
  },
  {
   "cell_type": "code",
   "execution_count": null,
   "id": "631a2077-5868-4df5-9d5c-fd8a81039b06",
   "metadata": {},
   "outputs": [],
   "source": []
  }
 ],
 "metadata": {
  "kernelspec": {
   "display_name": "Python 3 (ipykernel)",
   "language": "python",
   "name": "python3"
  },
  "language_info": {
   "codemirror_mode": {
    "name": "ipython",
    "version": 3
   },
   "file_extension": ".py",
   "mimetype": "text/x-python",
   "name": "python",
   "nbconvert_exporter": "python",
   "pygments_lexer": "ipython3",
   "version": "3.10.2"
  }
 },
 "nbformat": 4,
 "nbformat_minor": 5
}
