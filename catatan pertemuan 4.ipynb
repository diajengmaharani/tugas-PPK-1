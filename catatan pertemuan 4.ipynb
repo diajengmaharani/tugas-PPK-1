{
 "cells": [
  {
   "cell_type": "markdown",
   "id": "bf1c119a-38b9-4621-b3ff-b63887b00f40",
   "metadata": {},
   "source": [
    "# Catatan Modul 4 Control Flow\n",
    "### Ekspresi Boolean\n",
    "Sebuah ekspresi Boolean adalah ekspresi yang bernilai true atau false."
   ]
  },
  {
   "cell_type": "code",
   "execution_count": 1,
   "id": "db4379dd-6cc4-4d5d-a22e-694e6bf68d44",
   "metadata": {},
   "outputs": [
    {
     "data": {
      "text/plain": [
       "True"
      ]
     },
     "execution_count": 1,
     "metadata": {},
     "output_type": "execute_result"
    }
   ],
   "source": [
    "5==5"
   ]
  },
  {
   "cell_type": "code",
   "execution_count": 2,
   "id": "007f1674-831b-4199-8f2f-5daf674778d5",
   "metadata": {},
   "outputs": [
    {
     "data": {
      "text/plain": [
       "False"
      ]
     },
     "execution_count": 2,
     "metadata": {},
     "output_type": "execute_result"
    }
   ],
   "source": [
    "5==6"
   ]
  },
  {
   "cell_type": "markdown",
   "id": "5af0f4bb-77bd-4be4-94c0-14a18a1bb2b5",
   "metadata": {},
   "source": [
    "#### Operator Relasi\n",
    "(x == y bernilai True jika x sama dengan y), (x != y bernilai True jika x tidak sama dengan y), (x > y bernilai True jika x lebih dari y), (x < y bernilai True jika x kurang dari y), (x >= y bernilai True jika x lebih dari atau sama dengan y), (x <= y bernilai True jika x kurang dari atau sama dengan y)."
   ]
  },
  {
   "cell_type": "markdown",
   "id": "0434d204-6587-4b87-8b42-6cb156231280",
   "metadata": {},
   "source": [
    "#### Logical Operators\n",
    "(and-Melakukan pengecekan kondisi yang harus bernilai True untuk\n",
    "kedua operand kanan dan kiri secara bersamaan), (or-Melakukan pengecekan kondisi yang dapat bernilai True pada salah satu atau kedua operand kanan dan kiri), (not-Melakukan pengecekan kondisi NOT, atau membalikkan kon-\n",
    "disi.) Contoh NOT(A AND B)"
   ]
  },
  {
   "cell_type": "markdown",
   "id": "fccfae91-ec56-412c-8e1b-40223248bdf7",
   "metadata": {},
   "source": [
    "#### Conditional Execution\n",
    "Kemampuan pemilihan perintah. Contoh sederhana\n",
    "if x > 0:\n",
    "print(‘x is positive’)"
   ]
  },
  {
   "cell_type": "markdown",
   "id": "0bca3504-f551-4f01-a9df-b783c885e02d",
   "metadata": {},
   "source": [
    "##### Conditional if\n",
    "Conditional if digunakan untuk memilih apakah sebuah pernyataan akan dijalankan atau tidak sesuai kondisi yang diberikan."
   ]
  },
  {
   "cell_type": "markdown",
   "id": "df7b1cae-e846-4df1-88d4-4e84b04d13d7",
   "metadata": {},
   "source": [
    "##### Conditional if-else\n",
    "Conditional if-else digunakan untuk memilih pernyataan mana yang akan dijalankan dari 2 pernyataan sesuai kondisi yang diberikan."
   ]
  },
  {
   "cell_type": "markdown",
   "id": "fb38d241-1db4-4842-bb24-dbe0337ca9d9",
   "metadata": {},
   "source": [
    "##### Conditional if-elif-else\n",
    "Conditional if-elif-else digunakan untuk memilih pernyataan mana yang akan dijalankan\n",
    "dengan beberapa kondisi pengecekan."
   ]
  },
  {
   "cell_type": "code",
   "execution_count": 6,
   "id": "5f65863f-ed41-4429-82e4-1eb837df4e49",
   "metadata": {},
   "outputs": [
    {
     "name": "stdin",
     "output_type": "stream",
     "text": [
      "Masukkan nilai Anda:  89\n"
     ]
    },
    {
     "name": "stdout",
     "output_type": "stream",
     "text": [
      "Anda lulus ujian! SELAMAT!\n"
     ]
    }
   ],
   "source": [
    "#percobaan conditional if\n",
    "nilai = input(\"Masukkan nilai Anda: \")\n",
    "if int(nilai) >= 70:\n",
    "    print(\"Anda lulus ujian! SELAMAT!\")"
   ]
  },
  {
   "cell_type": "code",
   "execution_count": 7,
   "id": "1c0fe8dd-b536-492a-b4f8-730556000d7c",
   "metadata": {},
   "outputs": [
    {
     "name": "stdin",
     "output_type": "stream",
     "text": [
      "Masukkan nilai Anda:  67\n"
     ]
    },
    {
     "name": "stdout",
     "output_type": "stream",
     "text": [
      "Anda belum lulus ujian!\n"
     ]
    }
   ],
   "source": [
    "#percobaan contional if-else\n",
    "nilai = input(\"Masukkan nilai Anda: \")\n",
    "if int(nilai) >= 70:\n",
    "    print(\"Anda lulus ujian! SELAMAT!\")\n",
    "else:\n",
    "    print(\"Anda belum lulus ujian!\")"
   ]
  },
  {
   "cell_type": "code",
   "execution_count": 10,
   "id": "ebe966a1-413d-495f-bf51-3feac580b8c1",
   "metadata": {},
   "outputs": [
    {
     "name": "stdin",
     "output_type": "stream",
     "text": [
      "Masukkan nilai Anda:  78\n"
     ]
    },
    {
     "name": "stdout",
     "output_type": "stream",
     "text": [
      "Anda lulus ujian! SELAMAT!\n"
     ]
    }
   ],
   "source": [
    "#percobaan conditional if-elif-else\n",
    "nilai = input(\"Masukkan nilai Anda: \")\n",
    "if int(nilai) < 0 or int(nilai) > 100:\n",
    "    print(\"Nilai Anda TIDAK valid\")\n",
    "elif int(nilai) >= 70:\n",
    "    print(\"Anda lulus ujian! SELAMAT!\")\n",
    "else:\n",
    "    print(\"Anda belum lulus ujian!\")"
   ]
  },
  {
   "cell_type": "code",
   "execution_count": null,
   "id": "1f30f73b-a6db-49b5-97b5-6e258367e28d",
   "metadata": {},
   "outputs": [],
   "source": []
  }
 ],
 "metadata": {
  "kernelspec": {
   "display_name": "Python 3 (ipykernel)",
   "language": "python",
   "name": "python3"
  },
  "language_info": {
   "codemirror_mode": {
    "name": "ipython",
    "version": 3
   },
   "file_extension": ".py",
   "mimetype": "text/x-python",
   "name": "python",
   "nbconvert_exporter": "python",
   "pygments_lexer": "ipython3",
   "version": "3.10.2"
  }
 },
 "nbformat": 4,
 "nbformat_minor": 5
}
