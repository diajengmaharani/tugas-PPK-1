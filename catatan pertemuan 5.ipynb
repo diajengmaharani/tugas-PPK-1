{
 "cells": [
  {
   "cell_type": "markdown",
   "id": "828dbc86-709d-483a-bfd6-741508b39696",
   "metadata": {},
   "source": [
    "# Catatan Pertemuan 5"
   ]
  },
  {
   "cell_type": "markdown",
   "id": "54943d4c-eaa0-42a9-9096-b1e61b807c64",
   "metadata": {},
   "source": [
    "## Looping\n",
    "\n",
    "Loop adalah suatu blok atau kumpulan instruksi yang dilaksanakan secara berulang-\n",
    "ulang. Perulangan yang disebut juga repetition akan membuat efisiensi proses diban-\n",
    "dingkan jika dioperasikan secara manual."
   ]
  },
  {
   "cell_type": "markdown",
   "id": "697e1202-0733-4df4-acef-b66db275ec03",
   "metadata": {},
   "source": [
    "### While Loop\n",
    "\n",
    "Perulangan dengan while akan mengulang sebuah pernyataan atau kumpulan pernyataan jika kondisi yang diberikan bernilai True. Contoh penggunaanya sebagai berikut:"
   ]
  },
  {
   "cell_type": "code",
   "execution_count": 1,
   "id": "7368d0a8-a93b-468f-84be-ed6ac0dc936a",
   "metadata": {},
   "outputs": [
    {
     "name": "stdout",
     "output_type": "stream",
     "text": [
      "0\n",
      "1\n",
      "2\n",
      "3\n",
      "4\n"
     ]
    }
   ],
   "source": [
    "count=0\n",
    "while count < 5:\n",
    "    print(count)\n",
    "    count += 1 #menampilkan 0 1 2 3 4"
   ]
  },
  {
   "cell_type": "markdown",
   "id": "751ced2b-445c-4c81-9fa5-e65026e1c9f6",
   "metadata": {},
   "source": [
    "### For Loop\n",
    "\n",
    "Perulangan dengan loop melakukan perulangan setiap elemen pada sebuah kumpulan data (array, list, dictionary, range)."
   ]
  },
  {
   "cell_type": "code",
   "execution_count": 2,
   "id": "bd08a066-5525-4b92-b2fd-c8a21e22467c",
   "metadata": {},
   "outputs": [
    {
     "name": "stdout",
     "output_type": "stream",
     "text": [
      "2\n",
      "3\n",
      "5\n",
      "7\n"
     ]
    }
   ],
   "source": [
    "primes =[2,3,5,7]\n",
    "for prime in primes:\n",
    "    print(prime) #menampilkan 2 3 5 7\n",
    "    "
   ]
  },
  {
   "cell_type": "markdown",
   "id": "b27aaa37-5852-4144-98c4-2800d365c466",
   "metadata": {},
   "source": [
    "#### Percobaan While loop\n",
    "untuk menghitung nilai faktorial"
   ]
  },
  {
   "cell_type": "code",
   "execution_count": 3,
   "id": "1e5cf1d5-b177-4089-b149-38795e007be8",
   "metadata": {},
   "outputs": [],
   "source": [
    "#percobaan while loop\n",
    "#menghitung nilai faktorial\n",
    "def faktorial(n):\n",
    "    fac=1\n",
    "    i=1\n",
    "    while i<=n:\n",
    "        fac=fac*i\n",
    "        i+=1\n",
    "    return fac"
   ]
  },
  {
   "cell_type": "code",
   "execution_count": 4,
   "id": "dd5b422c-5ba8-47ab-a25b-0a1e47f92177",
   "metadata": {},
   "outputs": [
    {
     "name": "stdin",
     "output_type": "stream",
     "text": [
      "masukkan nilai yang akan dihitung:  3\n"
     ]
    },
    {
     "data": {
      "text/plain": [
       "6"
      ]
     },
     "execution_count": 4,
     "metadata": {},
     "output_type": "execute_result"
    }
   ],
   "source": [
    "angka = int(input(\"masukkan nilai yang akan dihitung: \"))\n",
    "faktorial(angka)"
   ]
  },
  {
   "cell_type": "markdown",
   "id": "5d1dd898-5f36-4147-b578-3018f041456c",
   "metadata": {},
   "source": [
    "### Percobaan For Loop\n",
    "Program perulangan dengan for untuk menghitung jumlah total."
   ]
  },
  {
   "cell_type": "code",
   "execution_count": 5,
   "id": "41e7b1a6-f3bc-4022-893c-930e95208554",
   "metadata": {},
   "outputs": [
    {
     "name": "stdout",
     "output_type": "stream",
     "text": [
      "151\n"
     ]
    }
   ],
   "source": [
    "#percobaan for loop\n",
    "numbers=[1,10,20,30,40,50]\n",
    "sum = 0\n",
    "for number in numbers:\n",
    "    sum += number\n",
    "print(sum)"
   ]
  },
  {
   "cell_type": "markdown",
   "id": "698c919f-d720-4acf-81e7-d4a921f880e3",
   "metadata": {},
   "source": [
    "### Percobaan Looping dengan Break"
   ]
  },
  {
   "cell_type": "code",
   "execution_count": 6,
   "id": "547381bd-c1ad-4674-a38f-06101c8da7d6",
   "metadata": {},
   "outputs": [
    {
     "name": "stdin",
     "output_type": "stream",
     "text": [
      "masukkan nilai yang akan dihitung:  88\n"
     ]
    }
   ],
   "source": [
    "b = 0\n",
    "while True:\n",
    "    angka = int(input(\"masukkan nilai yang akan dihitung: \"))\n",
    "    b += angka\n",
    "    if b > 50:\n",
    "        break \n",
    "        print(\"angka berhenti pada jumlah: \" + b)"
   ]
  },
  {
   "cell_type": "code",
   "execution_count": null,
   "id": "baba59fc-c59b-4cf8-bf99-abefed707581",
   "metadata": {},
   "outputs": [],
   "source": []
  }
 ],
 "metadata": {
  "kernelspec": {
   "display_name": "Python 3 (ipykernel)",
   "language": "python",
   "name": "python3"
  },
  "language_info": {
   "codemirror_mode": {
    "name": "ipython",
    "version": 3
   },
   "file_extension": ".py",
   "mimetype": "text/x-python",
   "name": "python",
   "nbconvert_exporter": "python",
   "pygments_lexer": "ipython3",
   "version": "3.10.2"
  }
 },
 "nbformat": 4,
 "nbformat_minor": 5
}
