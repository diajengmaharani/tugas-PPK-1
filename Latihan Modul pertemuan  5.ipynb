{
 "cells": [
  {
   "cell_type": "markdown",
   "id": "5d6fdbd7-24eb-4374-92b9-c2e1f9a09dc9",
   "metadata": {},
   "source": [
    "# Latihan 1!"
   ]
  },
  {
   "cell_type": "markdown",
   "id": "0064fcf0-a7b9-4c8f-8b42-51beeac12e7d",
   "metadata": {},
   "source": [
    "1. Buatlah program yang meminta masukan user sebuah bilangan bulat N dimana (N> 0). Program kemudian menampilkan penjumlahan N bilangan genap positifpertama (bilangan genap ≥ 0). Contoh:\n",
    "• Jika user memasukkan N = 3, maka outputnya: 0 + 2 + 4 = 6\n",
    "• Jika user memasukkan N = 5, maka outputnya: 0 + 2 + 4 + 6 + 8 =20"
   ]
  },
  {
   "cell_type": "code",
   "execution_count": 1,
   "id": "d76e45ba-af20-403d-aa0c-3e1127b18ef9",
   "metadata": {},
   "outputs": [
    {
     "name": "stdout",
     "output_type": "stream",
     "text": [
      "_____Menampilkan Penjumlahan N Bilangan Genap Positif Pertama_____\n"
     ]
    },
    {
     "name": "stdin",
     "output_type": "stream",
     "text": [
      "Masukkan nilai N adalah: 5\n"
     ]
    },
    {
     "name": "stdout",
     "output_type": "stream",
     "text": [
      "Daftar bilangan genap positif pertama yaitu\n",
      "0\n",
      "2\n",
      "4\n",
      "6\n",
      "8\n",
      "Jika memasukkan nilai N: 5 maka penjumlahan dari bilangan genap positif pertama yaitu: 20\n"
     ]
    }
   ],
   "source": [
    "print(\"_____Menampilkan Penjumlahan N Bilangan Genap Positif Pertama_____\")\n",
    "m = 0\n",
    "sum = 0\n",
    "i = 1\n",
    "N=int(input(\"Masukkan nilai N adalah:\"))\n",
    "print(\"Daftar bilangan genap positif pertama yaitu\")\n",
    "while True:\n",
    "    sum += m\n",
    "    print(m)\n",
    "    m += 2\n",
    "    i =i+ 1\n",
    "    if i > N:\n",
    "        break\n",
    "print(\"Jika memasukkan nilai N:\",N, \"maka penjumlahan dari bilangan genap positif pertama yaitu:\", sum)"
   ]
  },
  {
   "cell_type": "markdown",
   "id": "5e899c16-2fb1-43ac-9040-ff0aa94f9250",
   "metadata": {},
   "source": [
    "2. Buatlah sebuah program yang meminta masukan user sebuah bilangan bulat N dimana (N > 0). Kemudian, program menampilkan penjumlahan N bilangan kuadrat pertama. Bilangan kuadrat adalah = 1, 4, 9, 16, 25, 36, ...., N2\n",
    ". Contoh:\n",
    "• Jika user memasukkan N = 2, maka outputnya: 1 + 4 = 5\n",
    "• Jika user memasukkan N = 3, maka outputnya: 1 + 4 + 9 = 14"
   ]
  },
  {
   "cell_type": "code",
   "execution_count": 2,
   "id": "f1ab7003-c5c3-40b0-8c06-bb85f5ec3fe0",
   "metadata": {},
   "outputs": [
    {
     "name": "stdout",
     "output_type": "stream",
     "text": [
      "______Menampilkan Penjumlahan Bilangan Kuadrat Pertama_____\n"
     ]
    },
    {
     "name": "stdin",
     "output_type": "stream",
     "text": [
      "Masukkan nilai N adalah: 3\n"
     ]
    },
    {
     "name": "stdout",
     "output_type": "stream",
     "text": [
      "Daftar bilangan kuadrat adalah: \n",
      "1\n",
      "4\n",
      "9\n",
      "Jika memasukkan nilai N: 3 maka hasil penjumlahan N bilangan kuadrat pertama yaitu: 14\n"
     ]
    }
   ],
   "source": [
    "print(\"______Menampilkan Penjumlahan Bilangan Kuadrat Pertama_____\")\n",
    "i,N,sum=1,0,0\n",
    "N=int(input(\"Masukkan nilai N adalah:\"))\n",
    "print(\"Daftar bilangan kuadrat adalah: \")\n",
    "while True:\n",
    "    sum += i*i\n",
    "    print(i*i)\n",
    "    i += 1\n",
    "    if i > N:\n",
    "        break\n",
    "print(\"Jika memasukkan nilai N:\",N, \"maka hasil penjumlahan N bilangan kuadrat pertama yaitu:\", sum)"
   ]
  },
  {
   "cell_type": "markdown",
   "id": "8d806761-783b-49ca-912c-8aae74608119",
   "metadata": {},
   "source": [
    "3. Buatlah sebuah program yang meminta masukan user sebuah bilangan bulat N dimana (N > 0). Program kemudian memeriksa setiap digit yang ada di angka\n",
    "tersebut, dan menampilkan berapa jumlah digit yang ganjil dari bilangan N tersebut.\n",
    "• Jika user memasukkan N = 2345, jumlah digit yang ganjil = 2\n",
    "• Jika user memasukkan N = 993312, jumlah digit yang ganjil = 5"
   ]
  },
  {
   "cell_type": "code",
   "execution_count": 3,
   "id": "253b70a3-f01d-406d-86ba-273ce40752e6",
   "metadata": {},
   "outputs": [
    {
     "name": "stdout",
     "output_type": "stream",
     "text": [
      "_____Menampilkan Berapa Jumlah Digit Ganjil dari Bilangan N_____\n"
     ]
    },
    {
     "name": "stdin",
     "output_type": "stream",
     "text": [
      "Masukkan nilai N adalah:  2345\n"
     ]
    },
    {
     "name": "stdout",
     "output_type": "stream",
     "text": [
      "jumlah digit yang ganjil:  2\n"
     ]
    }
   ],
   "source": [
    "print(\"_____Menampilkan Berapa Jumlah Digit Ganjil dari Bilangan N_____\")\n",
    "N = input(\"Masukkan nilai N adalah: \")\n",
    "ganjil=0\n",
    "g=''\n",
    "for i in N:\n",
    "    if i in'13579':\n",
    "        ganjil += 1\n",
    "        g = g+i+''\n",
    "print(\"jumlah digit yang ganjil: \",ganjil)"
   ]
  },
  {
   "cell_type": "code",
   "execution_count": null,
   "id": "5baf6b36-971b-4831-9746-3f10740512ba",
   "metadata": {},
   "outputs": [],
   "source": []
  }
 ],
 "metadata": {
  "kernelspec": {
   "display_name": "Python 3 (ipykernel)",
   "language": "python",
   "name": "python3"
  },
  "language_info": {
   "codemirror_mode": {
    "name": "ipython",
    "version": 3
   },
   "file_extension": ".py",
   "mimetype": "text/x-python",
   "name": "python",
   "nbconvert_exporter": "python",
   "pygments_lexer": "ipython3",
   "version": "3.10.2"
  }
 },
 "nbformat": 4,
 "nbformat_minor": 5
}
