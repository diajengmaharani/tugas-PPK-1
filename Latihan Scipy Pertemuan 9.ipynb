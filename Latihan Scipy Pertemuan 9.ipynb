{
 "cells": [
  {
   "cell_type": "markdown",
   "id": "0e197949",
   "metadata": {},
   "source": [
    "# Latihan Scipy!\n",
    "## Nama:  Diajeng Maharani Putri Dianwati\n",
    "## NIM: 200601110008"
   ]
  },
  {
   "cell_type": "markdown",
   "id": "4e5a383a",
   "metadata": {},
   "source": [
    "Menyelesaikan persoalan integral $cos(2x+5) dx=$"
   ]
  },
  {
   "cell_type": "code",
   "execution_count": 1,
   "id": "720ca489",
   "metadata": {},
   "outputs": [
    {
     "data": {
      "text/latex": [
       "$\\displaystyle \\frac{\\sin{\\left(2 x + 5 \\right)}}{2}$"
      ],
      "text/plain": [
       "sin(2*x + 5)/2"
      ]
     },
     "execution_count": 1,
     "metadata": {},
     "output_type": "execute_result"
    }
   ],
   "source": [
    "import sympy\n",
    "from sympy import *\n",
    "x=symbols('x')\n",
    "integrate(cos(2*x+5))"
   ]
  },
  {
   "cell_type": "markdown",
   "id": "2a1034f4",
   "metadata": {},
   "source": [
    "Menemukan faktor dari $(x^3+3x^2+2x)=$"
   ]
  },
  {
   "cell_type": "code",
   "execution_count": 2,
   "id": "233f864b",
   "metadata": {},
   "outputs": [
    {
     "data": {
      "text/latex": [
       "$\\displaystyle x \\left(x + 1\\right) \\left(x + 2\\right)$"
      ],
      "text/plain": [
       "x*(x + 1)*(x + 2)"
      ]
     },
     "execution_count": 2,
     "metadata": {},
     "output_type": "execute_result"
    }
   ],
   "source": [
    "from sympy import *\n",
    "factor(x**3+3*x**2+2*x)"
   ]
  },
  {
   "cell_type": "markdown",
   "id": "7ef9dabe",
   "metadata": {},
   "source": [
    "Menentukan turunan pertama fungsi $f(x)=x^3-3x^2+8x$"
   ]
  },
  {
   "cell_type": "code",
   "execution_count": 3,
   "id": "337ddcc1",
   "metadata": {},
   "outputs": [
    {
     "data": {
      "text/latex": [
       "$\\displaystyle 3 x^{2} - 6 x + 8$"
      ],
      "text/plain": [
       "3*x**2 - 6*x + 8"
      ]
     },
     "execution_count": 3,
     "metadata": {},
     "output_type": "execute_result"
    }
   ],
   "source": [
    "from sympy import *\n",
    "x=symbols('x')\n",
    "diff(x**3-3*x**2+8*x)"
   ]
  },
  {
   "cell_type": "markdown",
   "id": "dc67c6e4",
   "metadata": {},
   "source": [
    "Hasil dari limit fungsi yang diberikan berikut yaitu:"
   ]
  },
  {
   "cell_type": "code",
   "execution_count": 4,
   "id": "ee5fe995",
   "metadata": {},
   "outputs": [
    {
     "data": {
      "text/latex": [
       "$\\displaystyle 5$"
      ],
      "text/plain": [
       "5"
      ]
     },
     "execution_count": 4,
     "metadata": {},
     "output_type": "execute_result"
    }
   ],
   "source": [
    "from sympy import *\n",
    "limit((x**2-9)/(x-3), x,2)"
   ]
  },
  {
   "cell_type": "markdown",
   "id": "08879845",
   "metadata": {},
   "source": [
    "Selesaikan persoalan dari $150+\\sqrt{225} =$"
   ]
  },
  {
   "cell_type": "code",
   "execution_count": 5,
   "id": "33319cc9",
   "metadata": {},
   "outputs": [
    {
     "data": {
      "text/latex": [
       "$\\displaystyle 165$"
      ],
      "text/plain": [
       "165"
      ]
     },
     "execution_count": 5,
     "metadata": {},
     "output_type": "execute_result"
    }
   ],
   "source": [
    "import sympy\n",
    "a=150\n",
    "b=sympy.sqrt(225)\n",
    "simplify(a+b)"
   ]
  },
  {
   "cell_type": "code",
   "execution_count": null,
   "id": "26461a45",
   "metadata": {},
   "outputs": [],
   "source": []
  }
 ],
 "metadata": {
  "kernelspec": {
   "display_name": "Python 3 (ipykernel)",
   "language": "python",
   "name": "python3"
  },
  "language_info": {
   "codemirror_mode": {
    "name": "ipython",
    "version": 3
   },
   "file_extension": ".py",
   "mimetype": "text/x-python",
   "name": "python",
   "nbconvert_exporter": "python",
   "pygments_lexer": "ipython3",
   "version": "3.9.7"
  }
 },
 "nbformat": 4,
 "nbformat_minor": 5
}
