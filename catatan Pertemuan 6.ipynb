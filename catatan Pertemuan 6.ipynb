{
 "cells": [
  {
   "cell_type": "markdown",
   "id": "97efb441",
   "metadata": {},
   "source": [
    "# Pendahuluan NumPy\n",
    "## 5.1 Pendahuluan\n",
    "NumPy adalah array multidimensi yang diindeks oleh tuple atau pasangan bilangan bulat positif. Dalam NumPy dimensi disebut sebagai axis, dan banyaknya axis disebut rank."
   ]
  },
  {
   "cell_type": "code",
   "execution_count": 1,
   "id": "d8dda6b9",
   "metadata": {},
   "outputs": [
    {
     "data": {
      "text/plain": [
       "array([[ 0,  1,  2,  3,  4],\n",
       "       [ 5,  6,  7,  8,  9],\n",
       "       [10, 11, 12, 13, 14]])"
      ]
     },
     "execution_count": 1,
     "metadata": {},
     "output_type": "execute_result"
    }
   ],
   "source": [
    "import numpy as np\n",
    "a = np. arange (15) . reshape (3 , 5)\n",
    "a"
   ]
  },
  {
   "cell_type": "code",
   "execution_count": 2,
   "id": "2df7f4f8",
   "metadata": {},
   "outputs": [
    {
     "data": {
      "text/plain": [
       "(3, 5)"
      ]
     },
     "execution_count": 2,
     "metadata": {},
     "output_type": "execute_result"
    }
   ],
   "source": [
    "a. shape"
   ]
  },
  {
   "cell_type": "code",
   "execution_count": 3,
   "id": "29c3896b",
   "metadata": {},
   "outputs": [
    {
     "data": {
      "text/plain": [
       "2"
      ]
     },
     "execution_count": 3,
     "metadata": {},
     "output_type": "execute_result"
    }
   ],
   "source": [
    "a. ndim"
   ]
  },
  {
   "cell_type": "code",
   "execution_count": 4,
   "id": "0449d2e1",
   "metadata": {},
   "outputs": [
    {
     "data": {
      "text/plain": [
       "'int32'"
      ]
     },
     "execution_count": 4,
     "metadata": {},
     "output_type": "execute_result"
    }
   ],
   "source": [
    "a. dtype . name"
   ]
  },
  {
   "cell_type": "code",
   "execution_count": 5,
   "id": "2039680a",
   "metadata": {},
   "outputs": [
    {
     "data": {
      "text/plain": [
       "4"
      ]
     },
     "execution_count": 5,
     "metadata": {},
     "output_type": "execute_result"
    }
   ],
   "source": [
    "a. itemsize"
   ]
  },
  {
   "cell_type": "code",
   "execution_count": 6,
   "id": "d88d7779",
   "metadata": {},
   "outputs": [
    {
     "data": {
      "text/plain": [
       "15"
      ]
     },
     "execution_count": 6,
     "metadata": {},
     "output_type": "execute_result"
    }
   ],
   "source": [
    "a. size"
   ]
  },
  {
   "cell_type": "code",
   "execution_count": 7,
   "id": "0daa75c4",
   "metadata": {},
   "outputs": [
    {
     "data": {
      "text/plain": [
       "numpy.ndarray"
      ]
     },
     "execution_count": 7,
     "metadata": {},
     "output_type": "execute_result"
    }
   ],
   "source": [
    "type (a)"
   ]
  },
  {
   "cell_type": "code",
   "execution_count": 8,
   "id": "a6724a3e",
   "metadata": {},
   "outputs": [
    {
     "data": {
      "text/plain": [
       "array([6, 7, 8])"
      ]
     },
     "execution_count": 8,
     "metadata": {},
     "output_type": "execute_result"
    }
   ],
   "source": [
    "b = np. array ([6 , 7 , 8])\n",
    "b"
   ]
  },
  {
   "cell_type": "code",
   "execution_count": 9,
   "id": "eed032a5",
   "metadata": {},
   "outputs": [
    {
     "data": {
      "text/plain": [
       "numpy.ndarray"
      ]
     },
     "execution_count": 9,
     "metadata": {},
     "output_type": "execute_result"
    }
   ],
   "source": [
    "type (b)"
   ]
  },
  {
   "cell_type": "markdown",
   "id": "be4c1ad7",
   "metadata": {},
   "source": [
    "## 5.2 Membuat Array"
   ]
  },
  {
   "cell_type": "code",
   "execution_count": 10,
   "id": "dc11a87c",
   "metadata": {},
   "outputs": [
    {
     "data": {
      "text/plain": [
       "array([2, 3, 4])"
      ]
     },
     "execution_count": 10,
     "metadata": {},
     "output_type": "execute_result"
    }
   ],
   "source": [
    "import numpy as np\n",
    "a = np. array ([2 ,3 ,4])\n",
    "a"
   ]
  },
  {
   "cell_type": "code",
   "execution_count": 11,
   "id": "8b840dc8",
   "metadata": {},
   "outputs": [
    {
     "data": {
      "text/plain": [
       "dtype('int32')"
      ]
     },
     "execution_count": 11,
     "metadata": {},
     "output_type": "execute_result"
    }
   ],
   "source": [
    "a. dtype"
   ]
  },
  {
   "cell_type": "code",
   "execution_count": 12,
   "id": "53c76e7f",
   "metadata": {},
   "outputs": [
    {
     "data": {
      "text/plain": [
       "dtype('float64')"
      ]
     },
     "execution_count": 12,
     "metadata": {},
     "output_type": "execute_result"
    }
   ],
   "source": [
    "b = np. array ([1.2 , 3.5 , 5.1])\n",
    "b.dtype "
   ]
  },
  {
   "cell_type": "markdown",
   "id": "14839cf6",
   "metadata": {},
   "source": [
    "array mengubah barisan dari sebuah barisan menjadi array dua dimensi, barisan dari barisan sebuah barisan menjadi array tiga dimensi, dan sete-\n",
    "rusnya."
   ]
  },
  {
   "cell_type": "code",
   "execution_count": 13,
   "id": "c8b3feb4",
   "metadata": {},
   "outputs": [
    {
     "data": {
      "text/plain": [
       "array([[1.5, 2. , 3. ],\n",
       "       [4. , 5. , 6. ]])"
      ]
     },
     "execution_count": 13,
     "metadata": {},
     "output_type": "execute_result"
    }
   ],
   "source": [
    "b = np. array ([(1.5 ,2 ,3) , (4 ,5 ,6) ])\n",
    "b"
   ]
  },
  {
   "cell_type": "code",
   "execution_count": 14,
   "id": "a6444d16",
   "metadata": {},
   "outputs": [
    {
     "data": {
      "text/plain": [
       "array([[1.+0.j, 2.+0.j],\n",
       "       [3.+0.j, 4.+0.j]])"
      ]
     },
     "execution_count": 14,
     "metadata": {},
     "output_type": "execute_result"
    }
   ],
   "source": [
    "# Jenis array juga dapat secara eksplisit ditentukan pada saat pembuatan:\n",
    "c = np. array ( [ [1 ,2] , [3 ,4] ] , dtype = complex )\n",
    "c"
   ]
  },
  {
   "cell_type": "markdown",
   "id": "93467b73",
   "metadata": {},
   "source": [
    "Fungsi zeros menciptakan sebuah array yang berisi angka nol, fungsi onesyang menciptakan array yang berisi angka satu, dan fungsi empty menciptakan array yang isinya acak dan bergantung pada keadaan memori. Secara default, dtype dari array yang dibuat adalah float64."
   ]
  },
  {
   "cell_type": "code",
   "execution_count": 15,
   "id": "28749052",
   "metadata": {},
   "outputs": [
    {
     "data": {
      "text/plain": [
       "array([[0., 0., 0., 0.],\n",
       "       [0., 0., 0., 0.],\n",
       "       [0., 0., 0., 0.]])"
      ]
     },
     "execution_count": 15,
     "metadata": {},
     "output_type": "execute_result"
    }
   ],
   "source": [
    "np. zeros ( (3 ,4) )"
   ]
  },
  {
   "cell_type": "code",
   "execution_count": 16,
   "id": "ebf93261",
   "metadata": {},
   "outputs": [
    {
     "data": {
      "text/plain": [
       "array([[[1, 1, 1, 1],\n",
       "        [1, 1, 1, 1],\n",
       "        [1, 1, 1, 1]],\n",
       "\n",
       "       [[1, 1, 1, 1],\n",
       "        [1, 1, 1, 1],\n",
       "        [1, 1, 1, 1]]], dtype=int16)"
      ]
     },
     "execution_count": 16,
     "metadata": {},
     "output_type": "execute_result"
    }
   ],
   "source": [
    "np. ones ( (2 ,3 ,4) , dtype =np. int16 ) # dtype can also be specified"
   ]
  },
  {
   "cell_type": "code",
   "execution_count": 17,
   "id": "cf019d17",
   "metadata": {},
   "outputs": [
    {
     "data": {
      "text/plain": [
       "array([[1.5, 2. , 3. ],\n",
       "       [4. , 5. , 6. ]])"
      ]
     },
     "execution_count": 17,
     "metadata": {},
     "output_type": "execute_result"
    }
   ],
   "source": [
    "np. empty ( (2 ,3) ) # uninitialized , output may vary"
   ]
  },
  {
   "cell_type": "markdown",
   "id": "dafbbe87",
   "metadata": {},
   "source": [
    "NumPy menyediakan fungsi yang mirip dengan range yang outputnya berupa array dan bukan berupa list."
   ]
  },
  {
   "cell_type": "code",
   "execution_count": 18,
   "id": "a8f40323",
   "metadata": {},
   "outputs": [
    {
     "data": {
      "text/plain": [
       "array([10, 15, 20, 25])"
      ]
     },
     "execution_count": 18,
     "metadata": {},
     "output_type": "execute_result"
    }
   ],
   "source": [
    "np. arange (10 ,30 ,5 )"
   ]
  },
  {
   "cell_type": "code",
   "execution_count": 19,
   "id": "fb825ab4",
   "metadata": {},
   "outputs": [
    {
     "data": {
      "text/plain": [
       "array([0. , 0.3, 0.6, 0.9, 1.2, 1.5, 1.8])"
      ]
     },
     "execution_count": 19,
     "metadata": {},
     "output_type": "execute_result"
    }
   ],
   "source": [
    "np. arange (0 ,2 ,0.3 ) # it accepts float arguments"
   ]
  },
  {
   "cell_type": "markdown",
   "id": "254e18b0",
   "metadata": {},
   "source": [
    "Fungsi linspace yang dapat menerima masukan berapa jumlah elemen yang kita inginkan:"
   ]
  },
  {
   "cell_type": "code",
   "execution_count": 20,
   "id": "0491f70a",
   "metadata": {},
   "outputs": [
    {
     "data": {
      "text/plain": [
       "array([0.  , 0.25, 0.5 , 0.75, 1.  , 1.25, 1.5 , 1.75, 2.  ])"
      ]
     },
     "execution_count": 20,
     "metadata": {},
     "output_type": "execute_result"
    }
   ],
   "source": [
    "from numpy import pi\n",
    "np. linspace (0 ,2 ,9) #9 numbers from 0 to 2"
   ]
  },
  {
   "cell_type": "code",
   "execution_count": 26,
   "id": "522aecad",
   "metadata": {},
   "outputs": [],
   "source": [
    "x = np. linspace (0 ,2*pi ,100 ) # useful to evaluate function at lots of points\n",
    "f = np.sin (x)"
   ]
  },
  {
   "cell_type": "markdown",
   "id": "65178100",
   "metadata": {},
   "source": [
    "## 5.3 Menampilkan Array\n",
    "array satu dimensi dicetak sebagai baris, array dua dimensi sebagai matriks dan tridimensionals sebagai daftar matriks."
   ]
  },
  {
   "cell_type": "code",
   "execution_count": 21,
   "id": "3893f2e2",
   "metadata": {},
   "outputs": [
    {
     "name": "stdout",
     "output_type": "stream",
     "text": [
      "[0 1 2 3 4 5]\n"
     ]
    }
   ],
   "source": [
    "a = np. arange (6) #1d array\n",
    "print (a)"
   ]
  },
  {
   "cell_type": "code",
   "execution_count": 22,
   "id": "25b7f153",
   "metadata": {},
   "outputs": [
    {
     "name": "stdout",
     "output_type": "stream",
     "text": [
      "[[ 0  1  2]\n",
      " [ 3  4  5]\n",
      " [ 6  7  8]\n",
      " [ 9 10 11]]\n"
     ]
    }
   ],
   "source": [
    "b = np. arange (12) . reshape (4 ,3) # 2d array\n",
    "print (b)"
   ]
  },
  {
   "cell_type": "code",
   "execution_count": 23,
   "id": "946974fc",
   "metadata": {},
   "outputs": [
    {
     "name": "stdout",
     "output_type": "stream",
     "text": [
      "[[[ 0  1  2  3]\n",
      "  [ 4  5  6  7]\n",
      "  [ 8  9 10 11]]\n",
      "\n",
      " [[12 13 14 15]\n",
      "  [16 17 18 19]\n",
      "  [20 21 22 23]]]\n"
     ]
    }
   ],
   "source": [
    "c = np. arange (24) . reshape (2 ,3 ,4) #3d array\n",
    "print (c)"
   ]
  },
  {
   "cell_type": "markdown",
   "id": "e0d472e6",
   "metadata": {},
   "source": [
    "array terlalu besar untuk ditampilkan, maka NumPy secara otomatis memotong bagian tengah array dan hanya mencetak ujung-ujungnya:"
   ]
  },
  {
   "cell_type": "code",
   "execution_count": 24,
   "id": "b271b4fd",
   "metadata": {},
   "outputs": [
    {
     "name": "stdout",
     "output_type": "stream",
     "text": [
      "[   0    1    2 ... 9997 9998 9999]\n"
     ]
    }
   ],
   "source": [
    "print (np. arange (10000) )"
   ]
  },
  {
   "cell_type": "code",
   "execution_count": 25,
   "id": "62e2f8db",
   "metadata": {},
   "outputs": [
    {
     "name": "stdout",
     "output_type": "stream",
     "text": [
      "[[   0    1    2 ...   97   98   99]\n",
      " [ 100  101  102 ...  197  198  199]\n",
      " [ 200  201  202 ...  297  298  299]\n",
      " ...\n",
      " [9700 9701 9702 ... 9797 9798 9799]\n",
      " [9800 9801 9802 ... 9897 9898 9899]\n",
      " [9900 9901 9902 ... 9997 9998 9999]]\n"
     ]
    }
   ],
   "source": [
    "print (np. arange (10000) . reshape (100 ,100) )"
   ]
  },
  {
   "cell_type": "markdown",
   "id": "1527e62a",
   "metadata": {},
   "source": [
    "Untuk memaksa NumPy mencetak seluruh bagian array, kita dapat men-\n",
    "gubah opsi print menggunakan set_printoptions."
   ]
  },
  {
   "cell_type": "code",
   "execution_count": 27,
   "id": "52ed4bcd",
   "metadata": {},
   "outputs": [
    {
     "data": {
      "text/plain": [
       "<function numpy.set_printoptions(precision=None, threshold=None, edgeitems=None, linewidth=None, suppress=None, nanstr=None, infstr=None, formatter=None, sign=None, floatmode=None, *, legacy=None)>"
      ]
     },
     "execution_count": 27,
     "metadata": {},
     "output_type": "execute_result"
    }
   ],
   "source": [
    "np. set_printoptions"
   ]
  },
  {
   "cell_type": "code",
   "execution_count": null,
   "id": "4a9d5bba",
   "metadata": {},
   "outputs": [],
   "source": []
  }
 ],
 "metadata": {
  "kernelspec": {
   "display_name": "Python 3 (ipykernel)",
   "language": "python",
   "name": "python3"
  },
  "language_info": {
   "codemirror_mode": {
    "name": "ipython",
    "version": 3
   },
   "file_extension": ".py",
   "mimetype": "text/x-python",
   "name": "python",
   "nbconvert_exporter": "python",
   "pygments_lexer": "ipython3",
   "version": "3.9.7"
  }
 },
 "nbformat": 4,
 "nbformat_minor": 5
}
